{
 "cells": [
  {
   "cell_type": "markdown",
   "id": "631766fb",
   "metadata": {},
   "source": [
    "<div align=\"center\"> \n",
    "\n",
    "---\n",
    "\n",
    "# **Inmunofluorescence metrics**\n",
    "\n",
    "</div>\n"
   ]
  },
  {
   "cell_type": "markdown",
   "id": "0996c0fe",
   "metadata": {
    "tags": []
   },
   "source": [
    "---\n",
    "\n",
    "<div align=\"center\"> \n",
    "\n",
    "![Inmuno.png](attachment:2)\n",
    "\n",
    "</div>\n",
    "\n",
    "---\n",
    "# <u> **Description:**</u>\n",
    "\n",
    "Inmunofluorescence metrics\n",
    "\n",
    "---\n",
    "\n",
    "## **Workflow**\n",
    "\n",
    "1. General preparation\n",
    "2. Data preparation\n",
    "3. Analysis\n",
    "4. Exploratory data analysis\n",
    "5. Visualization\n",
    "6. Export data\n",
    "\n",
    "---\n",
    "\n",
    "**Variables to consider:** \n",
    "  - Session\n",
    "  - Sex  \n",
    "  \n",
    "**ROIs:**\n",
    "  - Hippocampus (CA2)\n",
    "  - Caudate-Putamen (CPu)\n",
    "  \n",
    "**Analysis:**\n",
    "  - \n",
    "  - \n",
    "\n",
    "---"
   ]
  },
  {
   "cell_type": "markdown",
   "id": "7ddbed2b-713c-4f37-8d96-ae7dcc11a877",
   "metadata": {},
   "source": [
    "### **General settings options**"
   ]
  },
  {
   "cell_type": "code",
   "execution_count": 1,
   "id": "2de1abef-08be-46fb-ba68-a30f6f6fe2c7",
   "metadata": {
    "vscode": {
     "languageId": "r"
    }
   },
   "outputs": [
    {
     "data": {
      "text/html": [
       "<strong>1:</strong> 1"
      ],
      "text/latex": [
       "\\textbf{1:} 1"
      ],
      "text/markdown": [
       "**1:** 1"
      ],
      "text/plain": [
       "1 \n",
       "1 "
      ]
     },
     "metadata": {},
     "output_type": "display_data"
    }
   ],
   "source": [
    "addTaskCallback(function(...) {set.seed(42);TRUE})\n",
    "options(warn=-1) # to turn off warnings\n",
    "#options(warn=0) # to turn on warnings\n",
    "options(repr.plot.width=14, repr.plot.height=10) # to resize plots"
   ]
  },
  {
   "cell_type": "code",
   "execution_count": 2,
   "id": "2aa2d4a5",
   "metadata": {
    "vscode": {
     "languageId": "r"
    }
   },
   "outputs": [],
   "source": [
    "setwd(\"/mnt/c/Users/jalil/phd/PhD/Psilantro/Sudmex_alcohol_stress/\")"
   ]
  },
  {
   "cell_type": "code",
   "execution_count": 3,
   "id": "0ffe9dc7-1293-48f5-b309-b6c4b53b81eb",
   "metadata": {
    "vscode": {
     "languageId": "r"
    }
   },
   "outputs": [],
   "source": [
    "load(\"Data/Alcohol_consumption.RData\")"
   ]
  },
  {
   "cell_type": "code",
   "execution_count": 4,
   "id": "5a3ddb2b-9ffa-4996-9ee9-4fd0baebf110",
   "metadata": {
    "vscode": {
     "languageId": "r"
    }
   },
   "outputs": [],
   "source": [
    "load(\"Data/Behavior_metricsEPM.RData\")"
   ]
  },
  {
   "cell_type": "code",
   "execution_count": 5,
   "id": "9dbe9efe-62fb-4090-b801-f098a64aeb7a",
   "metadata": {
    "vscode": {
     "languageId": "r"
    }
   },
   "outputs": [],
   "source": [
    "load(\"Data/Behavior_metricsNOR.RData\")"
   ]
  },
  {
   "cell_type": "code",
   "execution_count": 6,
   "id": "b9056a03-6403-474d-9183-9d3ab7fa185c",
   "metadata": {
    "vscode": {
     "languageId": "r"
    }
   },
   "outputs": [],
   "source": [
    "load(\"Data/Behavior_metricsCPP.RData\")"
   ]
  },
  {
   "cell_type": "markdown",
   "id": "debb8af7-9965-49ff-86c7-c8996fa46a70",
   "metadata": {},
   "source": [
    "## **1. General preparation**"
   ]
  },
  {
   "cell_type": "markdown",
   "id": "8b5372ce",
   "metadata": {},
   "source": [
    "### **1.1 Load  R packages and dependencies.** \n",
    "\n",
    "  The following packages are needed for the to move on, firstly it is needed to download pacman library\n",
    "\n",
    " ---"
   ]
  },
  {
   "cell_type": "code",
   "execution_count": 7,
   "id": "58269e5b",
   "metadata": {
    "vscode": {
     "languageId": "r"
    }
   },
   "outputs": [
    {
     "name": "stderr",
     "output_type": "stream",
     "text": [
      "Loading required package: pacman\n",
      "\n",
      "Installing package into ‘/home/jalil/R’\n",
      "(as ‘lib’ is unspecified)\n",
      "\n",
      "also installing the dependency ‘RcppAnnoy’\n",
      "\n",
      "\n"
     ]
    }
   ],
   "source": [
    "# Make sure to install pacman before we begin\n",
    "  if (!require(\"pacman\")) {\n",
    "  install.packages(\"pacman\")\n",
    "  }\n",
    "\n",
    "# Load required packages  \n",
    "  pacman::p_load(tidyverse,readxl,lme4,devtools,ggpubr,rstatix,ggdist,ggmap,data.table,cowplot,\n",
    "    corrplot,magrittr,gghalves,skimr,emmeans,multcomp,easystats,scales,reshape2,RColorBrewer,caret,uwot,dbscan,umap)\n"
   ]
  },
  {
   "cell_type": "code",
   "execution_count": 8,
   "id": "742665cd-4bf3-48f6-9825-792a032e1602",
   "metadata": {
    "vscode": {
     "languageId": "r"
    }
   },
   "outputs": [],
   "source": [
    "pal_batch <- c(\"#264653\",\"#2a9d8f\",\"#5e548e\",\"#ff595e\",\"#03045e\")"
   ]
  },
  {
   "cell_type": "markdown",
   "id": "d6f0c5cc-51af-45c2-8edb-f7b88359d9d4",
   "metadata": {},
   "source": [
    "## **2. Data preparation**\n",
    "\n",
    "Reading files and set it all up."
   ]
  },
  {
   "cell_type": "code",
   "execution_count": 9,
   "id": "e207e000-5cea-43d4-8662-9ef39d8439f4",
   "metadata": {
    "vscode": {
     "languageId": "r"
    }
   },
   "outputs": [
    {
     "name": "stderr",
     "output_type": "stream",
     "text": [
      "\u001b[1mRows: \u001b[22m\u001b[34m96\u001b[39m \u001b[1mColumns: \u001b[22m\u001b[34m4\u001b[39m\n",
      "\u001b[36m──\u001b[39m \u001b[1mColumn specification\u001b[22m \u001b[36m────────────────────────────────────────────────────────\u001b[39m\n",
      "\u001b[1mDelimiter:\u001b[22m \",\"\n",
      "\u001b[31mchr\u001b[39m (4): RID, Group, Sex, Batch\n",
      "\n",
      "\u001b[36mℹ\u001b[39m Use `spec()` to retrieve the full column specification for this data.\n",
      "\u001b[36mℹ\u001b[39m Specify the column types or set `show_col_types = FALSE` to quiet this message.\n"
     ]
    }
   ],
   "source": [
    "RID_group <- read_csv(\"Data/RID_group.csv\")"
   ]
  },
  {
   "cell_type": "code",
   "execution_count": 10,
   "id": "7652110e-3800-4ba2-b984-54a4746d5ded",
   "metadata": {
    "vscode": {
     "languageId": "r"
    }
   },
   "outputs": [],
   "source": [
    "Morph_names <- list.files(paste0(getwd(),\"/Data/Inmunofluorescence/Morphology/\"), pattern = \"CPu.*\\\\.csv$\", full.names = FALSE) %>%\n",
    "       map(~ .x %>% str_remove(\".csv\") %>% str_remove(\"Data/Inmunofluorescence/Morphology/\"))\n",
    "\n",
    "suppressMessages(invisible(capture.output(\n",
    "Morph_files <- list.files(paste0(getwd(),\"/Data/Inmunofluorescence/Morphology/\"), pattern = \"CPu.*\\\\.csv$\", full.names = TRUE) %>%\n",
    "       map(~ .x %>% read_tsv()) %>% set_names(Morph_names)\n",
    "       )))\n",
    "\n",
    "Morph_names_CA <- list.files(paste0(getwd(),\"/Data/Inmunofluorescence/Morphology/\"), pattern = \"CA2.*\\\\.csv$\", full.names = FALSE) %>%\n",
    "       map(~ .x %>% str_remove(\".csv\") %>% str_remove(\"Data/Inmunofluorescence/Morphology/\"))\n",
    "\n",
    "suppressMessages(invisible(capture.output(\n",
    "Morph_files_CA <- list.files(paste0(getwd(),\"/Data/Inmunofluorescence/Morphology/\"), pattern = \"CA2.*\\\\.csv$\", full.names = TRUE) %>%\n",
    "       map(~ .x %>% read_tsv()) %>% set_names(Morph_names_CA)\n",
    "       )))"
   ]
  },
  {
   "cell_type": "code",
   "execution_count": 11,
   "id": "fdb87141",
   "metadata": {
    "vscode": {
     "languageId": "r"
    }
   },
   "outputs": [],
   "source": [
    "Morph_metrics <- Morph_files %>% map(~ .x %>% \n",
    "        mutate(RID = if_else(as.numeric(str_split(Path_Annotations,pattern = \"_\") %>% \n",
    "                                    map_chr(~ .x %>% extract(1) %>% str_remove(\"R\"))) <= 99,\n",
    "                                        paste0(\"sub-0\",str_split(Path_Annotations, pattern = \"_\") %>% \n",
    "                                    map_chr(~ .x %>% extract(1) %>% str_remove(\"R\"))),\n",
    "                                        paste0(\"sub-\",str_split(Path_Annotations, pattern = \"_\") %>% \n",
    "                                    map_chr(~ .x %>% extract(1) %>% str_remove(\"R\")))),.before = 1,\n",
    "                Slice = str_split(Path_Annotations,pattern = \"_\") %>% \n",
    "                                    map_chr(~ .x %>% extract(5) %>% str_remove(\"-annotations.tif\")))) %>% \n",
    "        reduce(rbind) %>% left_join(RID_group, by = \"RID\") %>% \n",
    "        mutate(Group = factor(Group, levels = c(\"Ctrl\", \"Alc\",\"Str\",\"Alc+Str\")),\n",
    "            RID = factor(RID)) %>% drop_na()\n",
    "\n",
    "Morph_metrics_CA <- Morph_files_CA %>% map(~ .x %>% \n",
    "        mutate(RID = if_else(as.numeric(str_split(Path_Annotations,pattern = \"_\") %>% \n",
    "                                    map_chr(~ .x %>% extract(1) %>% str_remove(\"R\"))) <= 99,\n",
    "                                        paste0(\"sub-0\",str_split(Path_Annotations, pattern = \"_\") %>% \n",
    "                                    map_chr(~ .x %>% extract(1) %>% str_remove(\"R\"))),\n",
    "                                        paste0(\"sub-\",str_split(Path_Annotations, pattern = \"_\") %>% \n",
    "                                    map_chr(~ .x %>% extract(1) %>% str_remove(\"R\")))),.before = 1,\n",
    "                Slice = str_split(Path_Annotations,pattern = \"_\") %>% \n",
    "                                    map_chr(~ .x %>% extract(5) %>% str_remove(\"-annotations.tif\")))) %>% \n",
    "        reduce(rbind) %>% left_join(RID_group, by = \"RID\") %>% \n",
    "        mutate(Group = factor(Group, levels = c(\"Ctrl\", \"Alc\",\"Str\",\"Alc+Str\")),\n",
    "            RID = factor(RID)) %>% drop_na()"
   ]
  },
  {
   "cell_type": "code",
   "execution_count": 12,
   "id": "0c7d01f2",
   "metadata": {
    "vscode": {
     "languageId": "r"
    }
   },
   "outputs": [],
   "source": [
    "Morph_vars <- Morph_metrics %>% select_if(is.numeric) %>% dplyr::select(-c(Object_Label)) %>% colnames()"
   ]
  },
  {
   "cell_type": "markdown",
   "id": "d8727a13-b0e1-4d8d-a183-522491a1d518",
   "metadata": {},
   "source": [
    "## **3. Data analysis**"
   ]
  },
  {
   "cell_type": "markdown",
   "id": "62bb2e03",
   "metadata": {},
   "source": [
    "Morphological analysis based on [Microglia morphometry](https://doi.org/10.1098/rsob.220200)"
   ]
  },
  {
   "cell_type": "code",
   "execution_count": 13,
   "id": "5e88c931",
   "metadata": {
    "vscode": {
     "languageId": "r"
    }
   },
   "outputs": [],
   "source": [
    "#### Utility functions ####\n",
    "\n",
    "# Compute new features and add them to the input data frame\n",
    "compute_derived_features <- function(df) {\n",
    "  df$Solidity <- df$Area_Pixel2 / df$ConvexArea_Pixel2\n",
    "  df$Roundness <- df$Area_Pixel2 / df$EllipsoidLongestAxisRadius_Pixel^2\n",
    "  df$Roundness2 <- df$Area_Pixel2 / df$EllipsoidShortestAxisRadius_Pixel^2\n",
    "  df$GeodesicElongation <- df$GeodesicDiameter_Pixel^2 / df$Area_Pixel2 \n",
    "  df$AspectRatio <- df$LargestInscribedCircleRadius_Pixel^2 / df$Area_Pixel2 \n",
    "  df$Circularity <- df$Area_Pixel2 / df$Perimeter_Pixel^2\n",
    "  df$Somaness <- df$RadiusAtBrightestPoint_Pixel^2 / df$Area_Pixel2 \n",
    "  df$Branchiness <- df$SkeletonNumBranchPoints / df$GeodesicDiameter_Pixel\n",
    "  df$Straightness <- df$SkeletonLongestBranchLength_Pixel^2 / df$Area_Pixel2\n",
    "  df$Thickness <- df$Area_Pixel2 / df$SkeletonTotalLength_Pixel^2\n",
    "  return(df)\n",
    "}\n",
    "\n",
    "# Data clean up:\n",
    "# - Remove empty rows\n",
    "# - Remove duplicated cells\n",
    "# - Remove cells touching the image border\n",
    "# - Remove cells not annotated with expected terms\n",
    "clean_up <- function(df) {\n",
    "  \n",
    "  # Remove empty rows\n",
    "  df <- df[df$Object_Label!=\"\",]\n",
    "\n",
    "  # Remove duplicated cells\n",
    "  duplicates <- duplicated(df[,c(\"Centroid_Time_Frames\", \"BrightestPoint_X_Pixel\", \"BrightestPoint_Y_Pixel\", \"Path_Intensities\")])\n",
    "  if(any(duplicates)) {\n",
    "    warning(paste0(\"Removing duplicates in \", paste(unique(df$Path_Intensities[duplicates]), collapse = \", \"), \"\\n\"))\n",
    "    df <- df[!duplicates,]\n",
    "  }\n",
    "  \n",
    "  # Remove cells that significantly touch the image border\n",
    "  # A cell touches the border if the number of pixels on the border is more than 1% of its perimeter\n",
    "  excluded.cells <- which(df$ImageBoundaryContact_Pixel>0.01*df$Perimeter_Pixel)\n",
    "  if(length(excluded.cells)>0){\n",
    "    df <- df[-excluded.cells,]\n",
    "  }\n",
    "  \n",
    "  # Remove unexpected annotations\n",
    "  # df$Morphology[is.na(df$Morphology)] <- 'Not annotated' # NA -> not annotated\n",
    "  # idx <- which(!(df$Morphology %in% c(classes, 'Not annotated')))\n",
    "  # if(length(idx)>0) { # Cells with unexpected terms are considered not annotated\n",
    "  #   df$Morphology[idx] <- 'Not annotated'\n",
    "  # }\n",
    "  return(df)\n",
    "}"
   ]
  },
  {
   "cell_type": "code",
   "execution_count": 14,
   "id": "07bd7643",
   "metadata": {
    "vscode": {
     "languageId": "r"
    }
   },
   "outputs": [],
   "source": [
    "# Where to write the results\n",
    "output.dir = paste0(getwd(),\"/Statistics/Inmunofluorescence/Morphology/\")\n",
    "dir.create(output.dir, recursive = TRUE)\n",
    "\n",
    "# Names of the morphology classes of interest\n",
    "classes <- c(\"Round\", \"Inflamed_Ameboid\", \"Fried_egg\", \"Inflamed_Fried_egg\", \"Hypertrophic\", \"Inflamed_Hypertrophic\", \"Bipolar\")\n",
    "\n",
    "# Names of the features we're going to work with\n",
    "feat.to.keep <- c(\"Morphology\", \"Centroid_Time_Frames\",\"Area_Pixel2\", \"BrightestPointToCentroidDistance_Pixel\", \"ConvexArea_Pixel2\", \"EllipsoidLongestAxisRadius_Pixel\", \"EllipsoidShortestAxisRadius_Pixel\", \"GeodesicDiameter_Pixel\", \"LargestInscribedCircleRadius_Pixel\", \"Perimeter_Pixel\", \"RadiusAtBrightestPoint_Pixel\", \"SkeletonAvgBranchLength_Pixel\", \"SkeletonLongestBranchLength_Pixel\", \"SkeletonTotalLength_Pixel\", \"SkeletonNumBranchPoints\", \"Solidity\", \"Roundness\", \"Roundness2\", \"GeodesicElongation\", \"AspectRatio\", \"Circularity\", \"Somaness\", \"Branchiness\", \"Straightness\", \"Thickness\")\n",
    "names_numeric <- c(\"GeodesicDiameter_Pixel\",\"LargestInscribedCircleRadius_Pixel\")\n",
    "vars_interest <- c(\"Solidity\", \"Roundness\", \"Roundness2\", \"GeodesicElongation\", \"AspectRatio\", \"Circularity\", \"Somaness\", \"Branchiness\", \"Straightness\", \"Thickness\")"
   ]
  },
  {
   "cell_type": "code",
   "execution_count": 15,
   "id": "b770dc91",
   "metadata": {
    "vscode": {
     "languageId": "r"
    }
   },
   "outputs": [],
   "source": [
    "Morph_metrics_cleaned <- clean_up(Morph_metrics) %>% \n",
    "    mutate_at(vars(names_numeric),~ ifelse(. == \"Infinity\", NA, .)) %>% \n",
    "    mutate_at(vars(names_numeric), as.numeric) %>% \n",
    "    drop_na()\n",
    "Morph_metrics_features <- compute_derived_features(Morph_metrics_cleaned)"
   ]
  },
  {
   "cell_type": "code",
   "execution_count": 16,
   "id": "6a0f779c",
   "metadata": {
    "vscode": {
     "languageId": "r"
    }
   },
   "outputs": [],
   "source": [
    "Morph_metrics_CA_cleaned <- clean_up(Morph_metrics_CA) %>% \n",
    "    mutate_at(vars(names_numeric),~ ifelse(. == \"Infinity\", NA, .)) %>% \n",
    "    mutate_at(vars(names_numeric), as.numeric) %>% \n",
    "    drop_na()\n",
    "Morph_metrics_CA_features <- compute_derived_features(Morph_metrics_CA_cleaned)"
   ]
  },
  {
   "cell_type": "code",
   "execution_count": 17,
   "id": "9c63af72",
   "metadata": {
    "vscode": {
     "languageId": "r"
    }
   },
   "outputs": [],
   "source": [
    "Morph_metrics_interest <- Morph_metrics_features %>% \n",
    "    dplyr::select(c(RID,Slice,Object_Label,Group,Sex,Batch,vars_interest))\n",
    "\n",
    "Morph_metrics_CA_interest <- Morph_metrics_CA_features %>% \n",
    "    dplyr::select(c(RID,Slice,Object_Label,Group,Sex,Batch,vars_interest))"
   ]
  },
  {
   "cell_type": "markdown",
   "id": "23c65b6c-1c30-4e5a-b63c-ab3ae6d2c73c",
   "metadata": {},
   "source": [
    "### **3.1 Stats (Linear modelling)**"
   ]
  },
  {
   "cell_type": "code",
   "execution_count": 18,
   "id": "4ee4f906",
   "metadata": {
    "vscode": {
     "languageId": "r"
    }
   },
   "outputs": [
    {
     "data": {
      "text/html": [
       "<dl>\n",
       "\t<dt>$Solidity</dt>\n",
       "\t\t<dd><table class=\"dataframe\">\n",
       "<caption>A tibble: 4 × 6</caption>\n",
       "<thead>\n",
       "\t<tr><th scope=col>contrast</th><th scope=col>estimate</th><th scope=col>SE</th><th scope=col>df</th><th scope=col>p.value</th><th scope=col>p.value.signif</th></tr>\n",
       "\t<tr><th scope=col>&lt;chr&gt;</th><th scope=col>&lt;dbl&gt;</th><th scope=col>&lt;dbl&gt;</th><th scope=col>&lt;dbl&gt;</th><th scope=col>&lt;dbl&gt;</th><th scope=col>&lt;chr&gt;</th></tr>\n",
       "</thead>\n",
       "<tbody>\n",
       "\t<tr><td>Ctrl - Str      </td><td>-0.138</td><td>0.033</td><td>863</td><td>0.000</td><td>****</td></tr>\n",
       "\t<tr><td>Ctrl - (Alc+Str)</td><td>-0.083</td><td>0.035</td><td>863</td><td>0.026</td><td>*   </td></tr>\n",
       "\t<tr><td>Alc - Str       </td><td>-0.103</td><td>0.024</td><td>863</td><td>0.000</td><td>****</td></tr>\n",
       "\t<tr><td>Str - (Alc+Str) </td><td> 0.056</td><td>0.023</td><td>863</td><td>0.026</td><td>*   </td></tr>\n",
       "</tbody>\n",
       "</table>\n",
       "</dd>\n",
       "\t<dt>$Roundness</dt>\n",
       "\t\t<dd><table class=\"dataframe\">\n",
       "<caption>A tibble: 4 × 6</caption>\n",
       "<thead>\n",
       "\t<tr><th scope=col>contrast</th><th scope=col>estimate</th><th scope=col>SE</th><th scope=col>df</th><th scope=col>p.value</th><th scope=col>p.value.signif</th></tr>\n",
       "\t<tr><th scope=col>&lt;chr&gt;</th><th scope=col>&lt;dbl&gt;</th><th scope=col>&lt;dbl&gt;</th><th scope=col>&lt;dbl&gt;</th><th scope=col>&lt;dbl&gt;</th><th scope=col>&lt;chr&gt;</th></tr>\n",
       "</thead>\n",
       "<tbody>\n",
       "\t<tr><td>Ctrl - Str      </td><td>-0.439</td><td>0.105</td><td>863</td><td>0</td><td>*** </td></tr>\n",
       "\t<tr><td>Ctrl - (Alc+Str)</td><td>-0.403</td><td>0.110</td><td>863</td><td>0</td><td>*** </td></tr>\n",
       "\t<tr><td>Alc - Str       </td><td>-0.352</td><td>0.076</td><td>863</td><td>0</td><td>****</td></tr>\n",
       "\t<tr><td>Alc - (Alc+Str) </td><td>-0.316</td><td>0.083</td><td>863</td><td>0</td><td>*** </td></tr>\n",
       "</tbody>\n",
       "</table>\n",
       "</dd>\n",
       "\t<dt>$AspectRatio</dt>\n",
       "\t\t<dd><table class=\"dataframe\">\n",
       "<caption>A tibble: 4 × 6</caption>\n",
       "<thead>\n",
       "\t<tr><th scope=col>contrast</th><th scope=col>estimate</th><th scope=col>SE</th><th scope=col>df</th><th scope=col>p.value</th><th scope=col>p.value.signif</th></tr>\n",
       "\t<tr><th scope=col>&lt;chr&gt;</th><th scope=col>&lt;dbl&gt;</th><th scope=col>&lt;dbl&gt;</th><th scope=col>&lt;dbl&gt;</th><th scope=col>&lt;dbl&gt;</th><th scope=col>&lt;chr&gt;</th></tr>\n",
       "</thead>\n",
       "<tbody>\n",
       "\t<tr><td>Ctrl - Str      </td><td>-0.037</td><td>0.010</td><td>863</td><td>0.000</td><td>*** </td></tr>\n",
       "\t<tr><td>Ctrl - (Alc+Str)</td><td>-0.028</td><td>0.010</td><td>863</td><td>0.008</td><td>**  </td></tr>\n",
       "\t<tr><td>Alc - Str       </td><td>-0.038</td><td>0.007</td><td>863</td><td>0.000</td><td>****</td></tr>\n",
       "\t<tr><td>Alc - (Alc+Str) </td><td>-0.029</td><td>0.008</td><td>863</td><td>0.000</td><td>*** </td></tr>\n",
       "</tbody>\n",
       "</table>\n",
       "</dd>\n",
       "\t<dt>$Circularity</dt>\n",
       "\t\t<dd><table class=\"dataframe\">\n",
       "<caption>A tibble: 4 × 6</caption>\n",
       "<thead>\n",
       "\t<tr><th scope=col>contrast</th><th scope=col>estimate</th><th scope=col>SE</th><th scope=col>df</th><th scope=col>p.value</th><th scope=col>p.value.signif</th></tr>\n",
       "\t<tr><th scope=col>&lt;chr&gt;</th><th scope=col>&lt;dbl&gt;</th><th scope=col>&lt;dbl&gt;</th><th scope=col>&lt;dbl&gt;</th><th scope=col>&lt;dbl&gt;</th><th scope=col>&lt;chr&gt;</th></tr>\n",
       "</thead>\n",
       "<tbody>\n",
       "\t<tr><td>Ctrl - Str      </td><td>-0.014</td><td>0.003</td><td>863</td><td>0.000</td><td>****</td></tr>\n",
       "\t<tr><td>Ctrl - (Alc+Str)</td><td>-0.010</td><td>0.003</td><td>863</td><td>0.004</td><td>**  </td></tr>\n",
       "\t<tr><td>Alc - Str       </td><td>-0.011</td><td>0.002</td><td>863</td><td>0.000</td><td>****</td></tr>\n",
       "\t<tr><td>Alc - (Alc+Str) </td><td>-0.007</td><td>0.002</td><td>863</td><td>0.005</td><td>**  </td></tr>\n",
       "</tbody>\n",
       "</table>\n",
       "</dd>\n",
       "\t<dt>$Thickness</dt>\n",
       "\t\t<dd><table class=\"dataframe\">\n",
       "<caption>A tibble: 5 × 6</caption>\n",
       "<thead>\n",
       "\t<tr><th scope=col>contrast</th><th scope=col>estimate</th><th scope=col>SE</th><th scope=col>df</th><th scope=col>p.value</th><th scope=col>p.value.signif</th></tr>\n",
       "\t<tr><th scope=col>&lt;chr&gt;</th><th scope=col>&lt;dbl&gt;</th><th scope=col>&lt;dbl&gt;</th><th scope=col>&lt;dbl&gt;</th><th scope=col>&lt;dbl&gt;</th><th scope=col>&lt;chr&gt;</th></tr>\n",
       "</thead>\n",
       "<tbody>\n",
       "\t<tr><td>Ctrl - Alc      </td><td>-0.019</td><td>0.008</td><td>863</td><td>0.027</td><td>*  </td></tr>\n",
       "\t<tr><td>Ctrl - Str      </td><td>-0.044</td><td>0.011</td><td>863</td><td>0.001</td><td>***</td></tr>\n",
       "\t<tr><td>Ctrl - (Alc+Str)</td><td>-0.027</td><td>0.012</td><td>863</td><td>0.031</td><td>*  </td></tr>\n",
       "\t<tr><td>Alc - Str       </td><td>-0.025</td><td>0.008</td><td>863</td><td>0.007</td><td>** </td></tr>\n",
       "\t<tr><td>Str - (Alc+Str) </td><td> 0.017</td><td>0.008</td><td>863</td><td>0.038</td><td>*  </td></tr>\n",
       "</tbody>\n",
       "</table>\n",
       "</dd>\n",
       "</dl>\n"
      ],
      "text/latex": [
       "\\begin{description}\n",
       "\\item[\\$Solidity] A tibble: 4 × 6\n",
       "\\begin{tabular}{llllll}\n",
       " contrast & estimate & SE & df & p.value & p.value.signif\\\\\n",
       " <chr> & <dbl> & <dbl> & <dbl> & <dbl> & <chr>\\\\\n",
       "\\hline\n",
       "\t Ctrl - Str       & -0.138 & 0.033 & 863 & 0.000 & ****\\\\\n",
       "\t Ctrl - (Alc+Str) & -0.083 & 0.035 & 863 & 0.026 & *   \\\\\n",
       "\t Alc - Str        & -0.103 & 0.024 & 863 & 0.000 & ****\\\\\n",
       "\t Str - (Alc+Str)  &  0.056 & 0.023 & 863 & 0.026 & *   \\\\\n",
       "\\end{tabular}\n",
       "\n",
       "\\item[\\$Roundness] A tibble: 4 × 6\n",
       "\\begin{tabular}{llllll}\n",
       " contrast & estimate & SE & df & p.value & p.value.signif\\\\\n",
       " <chr> & <dbl> & <dbl> & <dbl> & <dbl> & <chr>\\\\\n",
       "\\hline\n",
       "\t Ctrl - Str       & -0.439 & 0.105 & 863 & 0 & *** \\\\\n",
       "\t Ctrl - (Alc+Str) & -0.403 & 0.110 & 863 & 0 & *** \\\\\n",
       "\t Alc - Str        & -0.352 & 0.076 & 863 & 0 & ****\\\\\n",
       "\t Alc - (Alc+Str)  & -0.316 & 0.083 & 863 & 0 & *** \\\\\n",
       "\\end{tabular}\n",
       "\n",
       "\\item[\\$AspectRatio] A tibble: 4 × 6\n",
       "\\begin{tabular}{llllll}\n",
       " contrast & estimate & SE & df & p.value & p.value.signif\\\\\n",
       " <chr> & <dbl> & <dbl> & <dbl> & <dbl> & <chr>\\\\\n",
       "\\hline\n",
       "\t Ctrl - Str       & -0.037 & 0.010 & 863 & 0.000 & *** \\\\\n",
       "\t Ctrl - (Alc+Str) & -0.028 & 0.010 & 863 & 0.008 & **  \\\\\n",
       "\t Alc - Str        & -0.038 & 0.007 & 863 & 0.000 & ****\\\\\n",
       "\t Alc - (Alc+Str)  & -0.029 & 0.008 & 863 & 0.000 & *** \\\\\n",
       "\\end{tabular}\n",
       "\n",
       "\\item[\\$Circularity] A tibble: 4 × 6\n",
       "\\begin{tabular}{llllll}\n",
       " contrast & estimate & SE & df & p.value & p.value.signif\\\\\n",
       " <chr> & <dbl> & <dbl> & <dbl> & <dbl> & <chr>\\\\\n",
       "\\hline\n",
       "\t Ctrl - Str       & -0.014 & 0.003 & 863 & 0.000 & ****\\\\\n",
       "\t Ctrl - (Alc+Str) & -0.010 & 0.003 & 863 & 0.004 & **  \\\\\n",
       "\t Alc - Str        & -0.011 & 0.002 & 863 & 0.000 & ****\\\\\n",
       "\t Alc - (Alc+Str)  & -0.007 & 0.002 & 863 & 0.005 & **  \\\\\n",
       "\\end{tabular}\n",
       "\n",
       "\\item[\\$Thickness] A tibble: 5 × 6\n",
       "\\begin{tabular}{llllll}\n",
       " contrast & estimate & SE & df & p.value & p.value.signif\\\\\n",
       " <chr> & <dbl> & <dbl> & <dbl> & <dbl> & <chr>\\\\\n",
       "\\hline\n",
       "\t Ctrl - Alc       & -0.019 & 0.008 & 863 & 0.027 & *  \\\\\n",
       "\t Ctrl - Str       & -0.044 & 0.011 & 863 & 0.001 & ***\\\\\n",
       "\t Ctrl - (Alc+Str) & -0.027 & 0.012 & 863 & 0.031 & *  \\\\\n",
       "\t Alc - Str        & -0.025 & 0.008 & 863 & 0.007 & ** \\\\\n",
       "\t Str - (Alc+Str)  &  0.017 & 0.008 & 863 & 0.038 & *  \\\\\n",
       "\\end{tabular}\n",
       "\n",
       "\\end{description}\n"
      ],
      "text/markdown": [
       "$Solidity\n",
       ":   \n",
       "A tibble: 4 × 6\n",
       "\n",
       "| contrast &lt;chr&gt; | estimate &lt;dbl&gt; | SE &lt;dbl&gt; | df &lt;dbl&gt; | p.value &lt;dbl&gt; | p.value.signif &lt;chr&gt; |\n",
       "|---|---|---|---|---|---|\n",
       "| Ctrl - Str       | -0.138 | 0.033 | 863 | 0.000 | **** |\n",
       "| Ctrl - (Alc+Str) | -0.083 | 0.035 | 863 | 0.026 | *    |\n",
       "| Alc - Str        | -0.103 | 0.024 | 863 | 0.000 | **** |\n",
       "| Str - (Alc+Str)  |  0.056 | 0.023 | 863 | 0.026 | *    |\n",
       "\n",
       "\n",
       "$Roundness\n",
       ":   \n",
       "A tibble: 4 × 6\n",
       "\n",
       "| contrast &lt;chr&gt; | estimate &lt;dbl&gt; | SE &lt;dbl&gt; | df &lt;dbl&gt; | p.value &lt;dbl&gt; | p.value.signif &lt;chr&gt; |\n",
       "|---|---|---|---|---|---|\n",
       "| Ctrl - Str       | -0.439 | 0.105 | 863 | 0 | ***  |\n",
       "| Ctrl - (Alc+Str) | -0.403 | 0.110 | 863 | 0 | ***  |\n",
       "| Alc - Str        | -0.352 | 0.076 | 863 | 0 | **** |\n",
       "| Alc - (Alc+Str)  | -0.316 | 0.083 | 863 | 0 | ***  |\n",
       "\n",
       "\n",
       "$AspectRatio\n",
       ":   \n",
       "A tibble: 4 × 6\n",
       "\n",
       "| contrast &lt;chr&gt; | estimate &lt;dbl&gt; | SE &lt;dbl&gt; | df &lt;dbl&gt; | p.value &lt;dbl&gt; | p.value.signif &lt;chr&gt; |\n",
       "|---|---|---|---|---|---|\n",
       "| Ctrl - Str       | -0.037 | 0.010 | 863 | 0.000 | ***  |\n",
       "| Ctrl - (Alc+Str) | -0.028 | 0.010 | 863 | 0.008 | **   |\n",
       "| Alc - Str        | -0.038 | 0.007 | 863 | 0.000 | **** |\n",
       "| Alc - (Alc+Str)  | -0.029 | 0.008 | 863 | 0.000 | ***  |\n",
       "\n",
       "\n",
       "$Circularity\n",
       ":   \n",
       "A tibble: 4 × 6\n",
       "\n",
       "| contrast &lt;chr&gt; | estimate &lt;dbl&gt; | SE &lt;dbl&gt; | df &lt;dbl&gt; | p.value &lt;dbl&gt; | p.value.signif &lt;chr&gt; |\n",
       "|---|---|---|---|---|---|\n",
       "| Ctrl - Str       | -0.014 | 0.003 | 863 | 0.000 | **** |\n",
       "| Ctrl - (Alc+Str) | -0.010 | 0.003 | 863 | 0.004 | **   |\n",
       "| Alc - Str        | -0.011 | 0.002 | 863 | 0.000 | **** |\n",
       "| Alc - (Alc+Str)  | -0.007 | 0.002 | 863 | 0.005 | **   |\n",
       "\n",
       "\n",
       "$Thickness\n",
       ":   \n",
       "A tibble: 5 × 6\n",
       "\n",
       "| contrast &lt;chr&gt; | estimate &lt;dbl&gt; | SE &lt;dbl&gt; | df &lt;dbl&gt; | p.value &lt;dbl&gt; | p.value.signif &lt;chr&gt; |\n",
       "|---|---|---|---|---|---|\n",
       "| Ctrl - Alc       | -0.019 | 0.008 | 863 | 0.027 | *   |\n",
       "| Ctrl - Str       | -0.044 | 0.011 | 863 | 0.001 | *** |\n",
       "| Ctrl - (Alc+Str) | -0.027 | 0.012 | 863 | 0.031 | *   |\n",
       "| Alc - Str        | -0.025 | 0.008 | 863 | 0.007 | **  |\n",
       "| Str - (Alc+Str)  |  0.017 | 0.008 | 863 | 0.038 | *   |\n",
       "\n",
       "\n",
       "\n",
       "\n"
      ],
      "text/plain": [
       "$Solidity\n",
       "\u001b[90m# A tibble: 4 × 6\u001b[39m\n",
       "  contrast         estimate    SE    df p.value p.value.signif\n",
       "  \u001b[3m\u001b[90m<chr>\u001b[39m\u001b[23m               \u001b[3m\u001b[90m<dbl>\u001b[39m\u001b[23m \u001b[3m\u001b[90m<dbl>\u001b[39m\u001b[23m \u001b[3m\u001b[90m<dbl>\u001b[39m\u001b[23m   \u001b[3m\u001b[90m<dbl>\u001b[39m\u001b[23m \u001b[3m\u001b[90m<chr>\u001b[39m\u001b[23m         \n",
       "\u001b[90m1\u001b[39m Ctrl - Str         -\u001b[31m0\u001b[39m\u001b[31m.\u001b[39m\u001b[31m138\u001b[39m 0.033   863   0     ****          \n",
       "\u001b[90m2\u001b[39m Ctrl - (Alc+Str)   -\u001b[31m0\u001b[39m\u001b[31m.\u001b[39m\u001b[31m0\u001b[39m\u001b[31m83\u001b[39m 0.035   863   0.026 *             \n",
       "\u001b[90m3\u001b[39m Alc - Str          -\u001b[31m0\u001b[39m\u001b[31m.\u001b[39m\u001b[31m103\u001b[39m 0.024   863   0     ****          \n",
       "\u001b[90m4\u001b[39m Str - (Alc+Str)     0.056 0.023   863   0.026 *             \n",
       "\n",
       "$Roundness\n",
       "\u001b[90m# A tibble: 4 × 6\u001b[39m\n",
       "  contrast         estimate    SE    df p.value p.value.signif\n",
       "  \u001b[3m\u001b[90m<chr>\u001b[39m\u001b[23m               \u001b[3m\u001b[90m<dbl>\u001b[39m\u001b[23m \u001b[3m\u001b[90m<dbl>\u001b[39m\u001b[23m \u001b[3m\u001b[90m<dbl>\u001b[39m\u001b[23m   \u001b[3m\u001b[90m<dbl>\u001b[39m\u001b[23m \u001b[3m\u001b[90m<chr>\u001b[39m\u001b[23m         \n",
       "\u001b[90m1\u001b[39m Ctrl - Str         -\u001b[31m0\u001b[39m\u001b[31m.\u001b[39m\u001b[31m439\u001b[39m 0.105   863       0 ***           \n",
       "\u001b[90m2\u001b[39m Ctrl - (Alc+Str)   -\u001b[31m0\u001b[39m\u001b[31m.\u001b[39m\u001b[31m403\u001b[39m 0.11    863       0 ***           \n",
       "\u001b[90m3\u001b[39m Alc - Str          -\u001b[31m0\u001b[39m\u001b[31m.\u001b[39m\u001b[31m352\u001b[39m 0.076   863       0 ****          \n",
       "\u001b[90m4\u001b[39m Alc - (Alc+Str)    -\u001b[31m0\u001b[39m\u001b[31m.\u001b[39m\u001b[31m316\u001b[39m 0.083   863       0 ***           \n",
       "\n",
       "$AspectRatio\n",
       "\u001b[90m# A tibble: 4 × 6\u001b[39m\n",
       "  contrast         estimate    SE    df p.value p.value.signif\n",
       "  \u001b[3m\u001b[90m<chr>\u001b[39m\u001b[23m               \u001b[3m\u001b[90m<dbl>\u001b[39m\u001b[23m \u001b[3m\u001b[90m<dbl>\u001b[39m\u001b[23m \u001b[3m\u001b[90m<dbl>\u001b[39m\u001b[23m   \u001b[3m\u001b[90m<dbl>\u001b[39m\u001b[23m \u001b[3m\u001b[90m<chr>\u001b[39m\u001b[23m         \n",
       "\u001b[90m1\u001b[39m Ctrl - Str         -\u001b[31m0\u001b[39m\u001b[31m.\u001b[39m\u001b[31m0\u001b[39m\u001b[31m37\u001b[39m 0.01    863   0     ***           \n",
       "\u001b[90m2\u001b[39m Ctrl - (Alc+Str)   -\u001b[31m0\u001b[39m\u001b[31m.\u001b[39m\u001b[31m0\u001b[39m\u001b[31m28\u001b[39m 0.01    863   0.008 **            \n",
       "\u001b[90m3\u001b[39m Alc - Str          -\u001b[31m0\u001b[39m\u001b[31m.\u001b[39m\u001b[31m0\u001b[39m\u001b[31m38\u001b[39m 0.007   863   0     ****          \n",
       "\u001b[90m4\u001b[39m Alc - (Alc+Str)    -\u001b[31m0\u001b[39m\u001b[31m.\u001b[39m\u001b[31m0\u001b[39m\u001b[31m29\u001b[39m 0.008   863   0     ***           \n",
       "\n",
       "$Circularity\n",
       "\u001b[90m# A tibble: 4 × 6\u001b[39m\n",
       "  contrast         estimate    SE    df p.value p.value.signif\n",
       "  \u001b[3m\u001b[90m<chr>\u001b[39m\u001b[23m               \u001b[3m\u001b[90m<dbl>\u001b[39m\u001b[23m \u001b[3m\u001b[90m<dbl>\u001b[39m\u001b[23m \u001b[3m\u001b[90m<dbl>\u001b[39m\u001b[23m   \u001b[3m\u001b[90m<dbl>\u001b[39m\u001b[23m \u001b[3m\u001b[90m<chr>\u001b[39m\u001b[23m         \n",
       "\u001b[90m1\u001b[39m Ctrl - Str         -\u001b[31m0\u001b[39m\u001b[31m.\u001b[39m\u001b[31m0\u001b[39m\u001b[31m14\u001b[39m 0.003   863   0     ****          \n",
       "\u001b[90m2\u001b[39m Ctrl - (Alc+Str)   -\u001b[31m0\u001b[39m\u001b[31m.\u001b[39m\u001b[31m0\u001b[39m\u001b[31m1\u001b[39m  0.003   863   0.004 **            \n",
       "\u001b[90m3\u001b[39m Alc - Str          -\u001b[31m0\u001b[39m\u001b[31m.\u001b[39m\u001b[31m0\u001b[39m\u001b[31m11\u001b[39m 0.002   863   0     ****          \n",
       "\u001b[90m4\u001b[39m Alc - (Alc+Str)    -\u001b[31m0\u001b[39m\u001b[31m.\u001b[39m\u001b[31m00\u001b[39m\u001b[31m7\u001b[39m 0.002   863   0.005 **            \n",
       "\n",
       "$Thickness\n",
       "\u001b[90m# A tibble: 5 × 6\u001b[39m\n",
       "  contrast         estimate    SE    df p.value p.value.signif\n",
       "  \u001b[3m\u001b[90m<chr>\u001b[39m\u001b[23m               \u001b[3m\u001b[90m<dbl>\u001b[39m\u001b[23m \u001b[3m\u001b[90m<dbl>\u001b[39m\u001b[23m \u001b[3m\u001b[90m<dbl>\u001b[39m\u001b[23m   \u001b[3m\u001b[90m<dbl>\u001b[39m\u001b[23m \u001b[3m\u001b[90m<chr>\u001b[39m\u001b[23m         \n",
       "\u001b[90m1\u001b[39m Ctrl - Alc         -\u001b[31m0\u001b[39m\u001b[31m.\u001b[39m\u001b[31m0\u001b[39m\u001b[31m19\u001b[39m 0.008   863   0.027 *             \n",
       "\u001b[90m2\u001b[39m Ctrl - Str         -\u001b[31m0\u001b[39m\u001b[31m.\u001b[39m\u001b[31m0\u001b[39m\u001b[31m44\u001b[39m 0.011   863   0.001 ***           \n",
       "\u001b[90m3\u001b[39m Ctrl - (Alc+Str)   -\u001b[31m0\u001b[39m\u001b[31m.\u001b[39m\u001b[31m0\u001b[39m\u001b[31m27\u001b[39m 0.012   863   0.031 *             \n",
       "\u001b[90m4\u001b[39m Alc - Str          -\u001b[31m0\u001b[39m\u001b[31m.\u001b[39m\u001b[31m0\u001b[39m\u001b[31m25\u001b[39m 0.008   863   0.007 **            \n",
       "\u001b[90m5\u001b[39m Str - (Alc+Str)     0.017 0.008   863   0.038 *             \n"
      ]
     },
     "metadata": {},
     "output_type": "display_data"
    }
   ],
   "source": [
    "suppressMessages(invisible(capture.output(\n",
    "CPu_Lmod <-  vars_interest %>% map(~ lm(eval(paste0(.x,\" ~ Group + Batch\")), data = Morph_metrics_interest) ) %>% set_names(vars_interest)\n",
    "    )))\n",
    "CPu_Lmod_Residuals <- CPu_Lmod %>% map_dfc(~ .x %>% residuals())\n",
    "\n",
    "suppressMessages(invisible(capture.output(\n",
    "CPu_contrast_Lmod <- CPu_Lmod %>%\n",
    "    map(~ contrast(emmeans(.x,~ Group), method = \"pairwise\", adjust = \"fdr\")) %>% set_names(vars_interest)\n",
    "    )))\n",
    "\n",
    "suppressMessages(invisible(capture.output(\n",
    "CPu_eff_size_Lmod <- vars_interest %>%\n",
    "    map(~ eff_size(CPu_contrast_Lmod[[.x]], sigma = sigma(CPu_Lmod[[.x]]),edf = df.residual(CPu_Lmod[[.x]]) ) ) %>% set_names(vars_interest) \n",
    "    )))\n",
    "\n",
    "\n",
    "CPu_significant_names_Lmod <- CPu_contrast_Lmod %>% map(~ .x %>% as_tibble() %>% \n",
    "    filter(p.value < 0.05) %>% \n",
    "    add_significance() %>% \n",
    "    dplyr::select(contrast, estimate, SE, df, p.value, p.value.signif) %>% \n",
    "    mutate(across(c(estimate, SE, df, p.value), ~ round(., 3))) ) %>% compact(1) \n",
    "CPu_significant_names_Lmod"
   ]
  },
  {
   "cell_type": "code",
   "execution_count": 19,
   "id": "cf9824a4",
   "metadata": {
    "vscode": {
     "languageId": "r"
    }
   },
   "outputs": [
    {
     "data": {
      "text/html": [
       "<dl>\n",
       "\t<dt>$AspectRatio</dt>\n",
       "\t\t<dd><table class=\"dataframe\">\n",
       "<caption>A tibble: 1 × 6</caption>\n",
       "<thead>\n",
       "\t<tr><th scope=col>contrast</th><th scope=col>estimate</th><th scope=col>SE</th><th scope=col>df</th><th scope=col>p.value</th><th scope=col>p.value.signif</th></tr>\n",
       "\t<tr><th scope=col>&lt;chr&gt;</th><th scope=col>&lt;dbl&gt;</th><th scope=col>&lt;dbl&gt;</th><th scope=col>&lt;dbl&gt;</th><th scope=col>&lt;dbl&gt;</th><th scope=col>&lt;chr&gt;</th></tr>\n",
       "</thead>\n",
       "<tbody>\n",
       "\t<tr><td>Ctrl - (Alc+Str)</td><td>0.03</td><td>0.011</td><td>877</td><td>0.044</td><td>*</td></tr>\n",
       "</tbody>\n",
       "</table>\n",
       "</dd>\n",
       "\t<dt>$Thickness</dt>\n",
       "\t\t<dd><table class=\"dataframe\">\n",
       "<caption>A tibble: 4 × 6</caption>\n",
       "<thead>\n",
       "\t<tr><th scope=col>contrast</th><th scope=col>estimate</th><th scope=col>SE</th><th scope=col>df</th><th scope=col>p.value</th><th scope=col>p.value.signif</th></tr>\n",
       "\t<tr><th scope=col>&lt;chr&gt;</th><th scope=col>&lt;dbl&gt;</th><th scope=col>&lt;dbl&gt;</th><th scope=col>&lt;dbl&gt;</th><th scope=col>&lt;dbl&gt;</th><th scope=col>&lt;chr&gt;</th></tr>\n",
       "</thead>\n",
       "<tbody>\n",
       "\t<tr><td>Ctrl - Str      </td><td>0.030</td><td>0.012</td><td>877</td><td>0.022</td><td>*</td></tr>\n",
       "\t<tr><td>Ctrl - (Alc+Str)</td><td>0.035</td><td>0.012</td><td>877</td><td>0.021</td><td>*</td></tr>\n",
       "\t<tr><td>Alc - Str       </td><td>0.024</td><td>0.010</td><td>877</td><td>0.022</td><td>*</td></tr>\n",
       "\t<tr><td>Alc - (Alc+Str) </td><td>0.029</td><td>0.011</td><td>877</td><td>0.021</td><td>*</td></tr>\n",
       "</tbody>\n",
       "</table>\n",
       "</dd>\n",
       "</dl>\n"
      ],
      "text/latex": [
       "\\begin{description}\n",
       "\\item[\\$AspectRatio] A tibble: 1 × 6\n",
       "\\begin{tabular}{llllll}\n",
       " contrast & estimate & SE & df & p.value & p.value.signif\\\\\n",
       " <chr> & <dbl> & <dbl> & <dbl> & <dbl> & <chr>\\\\\n",
       "\\hline\n",
       "\t Ctrl - (Alc+Str) & 0.03 & 0.011 & 877 & 0.044 & *\\\\\n",
       "\\end{tabular}\n",
       "\n",
       "\\item[\\$Thickness] A tibble: 4 × 6\n",
       "\\begin{tabular}{llllll}\n",
       " contrast & estimate & SE & df & p.value & p.value.signif\\\\\n",
       " <chr> & <dbl> & <dbl> & <dbl> & <dbl> & <chr>\\\\\n",
       "\\hline\n",
       "\t Ctrl - Str       & 0.030 & 0.012 & 877 & 0.022 & *\\\\\n",
       "\t Ctrl - (Alc+Str) & 0.035 & 0.012 & 877 & 0.021 & *\\\\\n",
       "\t Alc - Str        & 0.024 & 0.010 & 877 & 0.022 & *\\\\\n",
       "\t Alc - (Alc+Str)  & 0.029 & 0.011 & 877 & 0.021 & *\\\\\n",
       "\\end{tabular}\n",
       "\n",
       "\\end{description}\n"
      ],
      "text/markdown": [
       "$AspectRatio\n",
       ":   \n",
       "A tibble: 1 × 6\n",
       "\n",
       "| contrast &lt;chr&gt; | estimate &lt;dbl&gt; | SE &lt;dbl&gt; | df &lt;dbl&gt; | p.value &lt;dbl&gt; | p.value.signif &lt;chr&gt; |\n",
       "|---|---|---|---|---|---|\n",
       "| Ctrl - (Alc+Str) | 0.03 | 0.011 | 877 | 0.044 | * |\n",
       "\n",
       "\n",
       "$Thickness\n",
       ":   \n",
       "A tibble: 4 × 6\n",
       "\n",
       "| contrast &lt;chr&gt; | estimate &lt;dbl&gt; | SE &lt;dbl&gt; | df &lt;dbl&gt; | p.value &lt;dbl&gt; | p.value.signif &lt;chr&gt; |\n",
       "|---|---|---|---|---|---|\n",
       "| Ctrl - Str       | 0.030 | 0.012 | 877 | 0.022 | * |\n",
       "| Ctrl - (Alc+Str) | 0.035 | 0.012 | 877 | 0.021 | * |\n",
       "| Alc - Str        | 0.024 | 0.010 | 877 | 0.022 | * |\n",
       "| Alc - (Alc+Str)  | 0.029 | 0.011 | 877 | 0.021 | * |\n",
       "\n",
       "\n",
       "\n",
       "\n"
      ],
      "text/plain": [
       "$AspectRatio\n",
       "\u001b[90m# A tibble: 1 × 6\u001b[39m\n",
       "  contrast         estimate    SE    df p.value p.value.signif\n",
       "  \u001b[3m\u001b[90m<chr>\u001b[39m\u001b[23m               \u001b[3m\u001b[90m<dbl>\u001b[39m\u001b[23m \u001b[3m\u001b[90m<dbl>\u001b[39m\u001b[23m \u001b[3m\u001b[90m<dbl>\u001b[39m\u001b[23m   \u001b[3m\u001b[90m<dbl>\u001b[39m\u001b[23m \u001b[3m\u001b[90m<chr>\u001b[39m\u001b[23m         \n",
       "\u001b[90m1\u001b[39m Ctrl - (Alc+Str)     0.03 0.011   877   0.044 *             \n",
       "\n",
       "$Thickness\n",
       "\u001b[90m# A tibble: 4 × 6\u001b[39m\n",
       "  contrast         estimate    SE    df p.value p.value.signif\n",
       "  \u001b[3m\u001b[90m<chr>\u001b[39m\u001b[23m               \u001b[3m\u001b[90m<dbl>\u001b[39m\u001b[23m \u001b[3m\u001b[90m<dbl>\u001b[39m\u001b[23m \u001b[3m\u001b[90m<dbl>\u001b[39m\u001b[23m   \u001b[3m\u001b[90m<dbl>\u001b[39m\u001b[23m \u001b[3m\u001b[90m<chr>\u001b[39m\u001b[23m         \n",
       "\u001b[90m1\u001b[39m Ctrl - Str          0.03  0.012   877   0.022 *             \n",
       "\u001b[90m2\u001b[39m Ctrl - (Alc+Str)    0.035 0.012   877   0.021 *             \n",
       "\u001b[90m3\u001b[39m Alc - Str           0.024 0.01    877   0.022 *             \n",
       "\u001b[90m4\u001b[39m Alc - (Alc+Str)     0.029 0.011   877   0.021 *             \n"
      ]
     },
     "metadata": {},
     "output_type": "display_data"
    }
   ],
   "source": [
    "suppressMessages(invisible(capture.output(\n",
    "CA_Lmod <-  vars_interest[-6] %>% map(~ lm(eval(paste0(.x,\" ~ Group + Batch\")), data = Morph_metrics_CA_interest) ) %>% \n",
    "    set_names(vars_interest[-6])\n",
    "    )))\n",
    "CA_Lmod_Residuals <- CA_Lmod %>% map_dfc(~ .x %>% residuals())\n",
    "\n",
    "suppressMessages(invisible(capture.output(\n",
    "CA_contrast_Lmod <- CA_Lmod %>%\n",
    "    map(~ contrast(emmeans(.x,~ Group), method = \"pairwise\", adjust = \"fdr\")) %>% set_names(vars_interest[-6])\n",
    "    )))\n",
    "\n",
    "suppressMessages(invisible(capture.output(\n",
    "CA_eff_size_Lmod <- vars_interest[-6] %>%\n",
    "    map(~ eff_size(CA_contrast_Lmod[[.x]], sigma = sigma(CA_Lmod[[.x]]),edf = df.residual(CA_Lmod[[.x]]) ) ) %>% \n",
    "        set_names(vars_interest[-6]) \n",
    "    )))\n",
    "\n",
    "\n",
    "CA_significant_names_Lmod <- CA_contrast_Lmod %>% map(~ .x %>% as_tibble() %>% \n",
    "    filter(p.value < 0.05) %>% \n",
    "    add_significance() %>% \n",
    "    dplyr::select(contrast, estimate, SE, df, p.value, p.value.signif) %>% \n",
    "    mutate(across(c(estimate, SE, df, p.value), ~ round(., 3))) ) %>% compact(1) \n",
    "CA_significant_names_Lmod"
   ]
  },
  {
   "cell_type": "code",
   "execution_count": 20,
   "id": "81368d39",
   "metadata": {
    "vscode": {
     "languageId": "r"
    }
   },
   "outputs": [
    {
     "data": {
      "image/png": "[encoded data removed]",
      "text/plain": [
       "plot without title"
      ]
     },
     "metadata": {
      "image/png": {
       "height": 600,
       "width": 840
      }
     },
     "output_type": "display_data"
    }
   ],
   "source": [
    "Morph_metrics_interest %>% group_by(RID,Slice,Group) %>% count() %>% \n",
    "    ggplot(aes(x = Group, y = n, fill = Group)) + \n",
    "    stat_halfeye(\n",
    "        adjust = .8, width = .7, fill = \"grey85\",\n",
    "        interval_colour = NA, \n",
    "        position = position_nudge(x = .01),\n",
    "        aes(thickness = stat(f*n))) +\n",
    "    scale_color_manual(values = pal_group) +\n",
    "    scale_fill_manual(values = pal_group) +\n",
    "    geom_half_point(side = \"l\", aes(color = Group, fill = Group),\n",
    "                    range_scale = .1, alpha = .4, size = 3) +\n",
    "    geom_boxplot(width = .1) +\n",
    "    theme_pubr() +\n",
    "    labs(x = \"Group\", y = \"Number of cells\") +\n",
    "    theme(legend.position = \"none\")  +\n",
    "    stat_compare_means(aes(label = after_stat(p.signif)), \n",
    "                    method = \"t.test\", ref.group = \"Ctrl\", hide.ns = TRUE)"
   ]
  },
  {
   "cell_type": "markdown",
   "id": "f71b30fe",
   "metadata": {},
   "source": [
    "### **3.2 Morphology classification**"
   ]
  },
  {
   "cell_type": "code",
   "execution_count": 21,
   "id": "ba78e369",
   "metadata": {
    "vscode": {
     "languageId": "r"
    }
   },
   "outputs": [
    {
     "name": "stderr",
     "output_type": "stream",
     "text": [
      "\u001b[1mRows: \u001b[22m\u001b[34m4861\u001b[39m \u001b[1mColumns: \u001b[22m\u001b[34m51\u001b[39m\n",
      "\u001b[36m──\u001b[39m \u001b[1mColumn specification\u001b[22m \u001b[36m────────────────────────────────────────────────────────\u001b[39m\n",
      "\u001b[1mDelimiter:\u001b[22m \",\"\n",
      "\u001b[31mchr\u001b[39m (10): FrameInterval_Unit, VoxelSpacing_Unit, Path_LabelMasks, Path_Inten...\n",
      "\u001b[32mdbl\u001b[39m (41): Object_Label, Centroid_Time_Frames, Area_Pixel2, BrightestPointToC...\n",
      "\n",
      "\u001b[36mℹ\u001b[39m Use `spec()` to retrieve the full column specification for this data.\n",
      "\u001b[36mℹ\u001b[39m Specify the column types or set `show_col_types = FALSE` to quiet this message.\n",
      "\n",
      "\u001b[36m──\u001b[39m \u001b[1mColumn specification\u001b[22m \u001b[36m────────────────────────────────────────────────────────\u001b[39m\n",
      "cols(\n",
      "  x = \u001b[31mcol_character()\u001b[39m\n",
      ")\n",
      "\n"
     ]
    }
   ],
   "source": [
    "Microglia_classes <- read_csv(\"Data/Inmunofluorescence/Morphologies_UMAP.csv\")\n",
    "metrics_umap <- read_table(\"Data/Inmunofluorescence/metrics4UMAP.txt\")"
   ]
  },
  {
   "cell_type": "code",
   "execution_count": 22,
   "id": "15ad208c",
   "metadata": {
    "vscode": {
     "languageId": "r"
    }
   },
   "outputs": [],
   "source": [
    "n.neighbours <- 15\n",
    "n.components <- 2\n",
    "\n",
    "# Find projection using annotated cells\n",
    "u1 <- umap(Microglia_classes %>% dplyr::select(metrics_umap$x), y = Microglia_classes %>% dplyr::select(metrics_umap$x), \n",
    "    scale = TRUE, ret_model = TRUE, n_neighbors = n.neighbours, n_components = n.components)\n",
    "    \n",
    "# u <- umap(Morph_metrics_features[,-c(1:4)] %>% dplyr::select(metrics_umap$x), \n",
    "#     scale = TRUE, n_neighbors = n.neighbours, n_components = n.components)"
   ]
  },
  {
   "cell_type": "code",
   "execution_count": 23,
   "id": "28de1522",
   "metadata": {
    "vscode": {
     "languageId": "r"
    }
   },
   "outputs": [],
   "source": [
    "Morph_metrics_features %>% write_csv(\"Data/Inmunofluorescence/Morph_metrics_CPu_features.csv\")\n",
    "Morph_metrics_CA_features %>% write_csv(\"Data/Inmunofluorescence/Morph_metrics_CA_features.csv\")"
   ]
  },
  {
   "cell_type": "code",
   "execution_count": 24,
   "id": "94aea7b6",
   "metadata": {
    "vscode": {
     "languageId": "r"
    }
   },
   "outputs": [],
   "source": [
    "u1$layout <- Microglia_classes %>% dplyr::select(UMAP.V1,UMAP.V2) %>% as.matrix()"
   ]
  },
  {
   "cell_type": "code",
   "execution_count": 25,
   "id": "34638902",
   "metadata": {
    "vscode": {
     "languageId": "r"
    }
   },
   "outputs": [],
   "source": [
    "# Project the whole data set in the new space\n",
    "# u2 <- umap_transform(Morph_metrics_features[,-c(1:4)] %>% dplyr::select(metrics_umap$x), u1)"
   ]
  },
  {
   "cell_type": "code",
   "execution_count": null,
   "id": "607dfbfb",
   "metadata": {
    "vscode": {
     "languageId": "r"
    }
   },
   "outputs": [],
   "source": [
    "Morph_metrics_features[,-c(1:4)] %>% dplyr::select(metrics_umap$x) %>% mutate(Morphology = \"Not annotated\")"
   ]
  },
  {
   "cell_type": "markdown",
   "id": "2bdfa4b5-ca91-4591-9131-d5c05c31cc8e",
   "metadata": {
    "tags": []
   },
   "source": [
    "## **4. Visualization**\n"
   ]
  },
  {
   "cell_type": "code",
   "execution_count": 27,
   "id": "dc3a7f06",
   "metadata": {
    "vscode": {
     "languageId": "r"
    }
   },
   "outputs": [],
   "source": [
    "#\"plot all figures inside \"Morph_boxplot_list\" list\n",
    "Morph_boxplot_list <- map(vars_interest, ~ ggplot(Morph_metrics_interest %>% \n",
    "      mutate(Group = case_when(Group == \"Ctrl\" ~ \"EtOH-/CRS-\", Group == \"Alc\" ~ \"EtOH+/CRS-\", \n",
    "                    Group == \"Str\" ~ \"EtOH-/CRS+\",Group == \"Alc+Str\" ~ \"EtOH+/CRS+\")), \n",
    "  aes(x = Group, y = .data[[.]], fill = Group)) + \n",
    "  stat_halfeye(\n",
    "      adjust = .8, width = .7, fill = \"grey85\",\n",
    "      interval_colour = NA, \n",
    "      position = position_nudge(x = .01),\n",
    "      aes(thickness = stat(f*n))) +\n",
    "  scale_color_manual(values = pal_group) +\n",
    "  scale_fill_manual(values = pal_group) +\n",
    "  geom_half_point(side = \"l\", aes(color = Group, fill = Group),\n",
    "                  range_scale = .1, alpha = .4, size = 3) +\n",
    "  geom_boxplot(width = .1) +\n",
    "  theme_pubr() +\n",
    "  labs(x = \"Group\", y = .) +\n",
    "  theme(legend.position = \"none\") +\n",
    "  stat_compare_means(aes(label = after_stat(p.signif)), \n",
    "                  comparisons = list(c(\"EtOH-/CRS-\", \"EtOH+/CRS-\"), c(\"EtOH-/CRS-\", \"EtOH-/CRS+\"), c(\"EtOH-/CRS-\", \"EtOH+/CRS+\"), \n",
    "                                      c(\"EtOH+/CRS-\", \"EtOH-/CRS+\"), c(\"EtOH+/CRS-\", \"EtOH+/CRS+\"), c(\"EtOH-/CRS+\", \"EtOH+/CRS+\")),\n",
    "                  hide.ns = TRUE, p.adjust.method = \"fdr\")\n",
    "    ) %>% set_names(vars_interest)\n"
   ]
  },
  {
   "cell_type": "code",
   "execution_count": 28,
   "id": "74ac0bec",
   "metadata": {
    "vscode": {
     "languageId": "r"
    }
   },
   "outputs": [],
   "source": [
    "#\"plot all figures inside \"Morph_boxplot_list\" list\n",
    "Morph_boxplot_CA_list <- map(vars_interest, ~ \n",
    "    ggplot(Morph_metrics_CA_interest %>% \n",
    "        mutate(Group = case_when(Group == \"Ctrl\" ~ \"EtOH-/CRS-\", Group == \"Alc\" ~ \"EtOH+/CRS-\", \n",
    "                    Group == \"Str\" ~ \"EtOH-/CRS+\",Group == \"Alc+Str\" ~ \"EtOH+/CRS+\")), \n",
    "                    aes(x = Group, y = .data[[.]], fill = Group)) + \n",
    "    stat_halfeye(\n",
    "        adjust = .8, width = .7, fill = \"grey85\",\n",
    "        interval_colour = NA, \n",
    "        position = position_nudge(x = .01),\n",
    "        aes(thickness = stat(f*n))) +\n",
    "    scale_color_manual(values = pal_group) +\n",
    "    scale_fill_manual(values = pal_group) +\n",
    "    geom_half_point(side = \"l\", aes(color = Group, fill = Group),\n",
    "                    range_scale = .1, alpha = .4, size = 3) +\n",
    "    geom_boxplot(width = .1) +\n",
    "    theme_pubr() +\n",
    "    labs(x = \"Group\", y = .) +\n",
    "    theme(legend.position = \"none\") +\n",
    "    stat_compare_means(aes(label = after_stat(p.signif)), \n",
    "                comparisons = list(c(\"EtOH-/CRS-\", \"EtOH+/CRS-\"), c(\"EtOH-/CRS-\", \"EtOH-/CRS+\"), c(\"EtOH-/CRS-\", \"EtOH+/CRS+\"), \n",
    "                                    c(\"EtOH+/CRS-\", \"EtOH-/CRS+\"), c(\"EtOH+/CRS-\", \"EtOH+/CRS+\"), c(\"EtOH-/CRS+\", \"EtOH+/CRS+\")),\n",
    "                hide.ns = TRUE, p.adjust.method = \"fdr\")\n",
    "    ) %>% set_names(vars_interest)"
   ]
  },
  {
   "cell_type": "code",
   "execution_count": 29,
   "id": "7354c6f5",
   "metadata": {
    "vscode": {
     "languageId": "r"
    }
   },
   "outputs": [],
   "source": [
    "plot_morphology_metrics <- ggarrange(Morph_boxplot_list$Solidity,Morph_boxplot_list$Roundness,\n",
    "                Morph_boxplot_list$GeodesicElongation,Morph_boxplot_list$AspectRatio,Morph_boxplot_list$Circularity,\n",
    "                Morph_boxplot_list$Somaness,Morph_boxplot_list$Branchiness,Morph_boxplot_list$Straightness,\n",
    "                Morph_boxplot_list$Thickness,\n",
    "        ncol = 3, nrow = 3, common.legend = TRUE, legend = \"top\")\n",
    "\n",
    "plot_morphology_CA_metrics <- ggarrange(Morph_boxplot_CA_list$Solidity,Morph_boxplot_CA_list$Roundness,\n",
    "                Morph_boxplot_CA_list$GeodesicElongation,Morph_boxplot_CA_list$AspectRatio,Morph_boxplot_CA_list$Circularity,\n",
    "                Morph_boxplot_CA_list$Somaness,Morph_boxplot_CA_list$Branchiness,Morph_boxplot_CA_list$Straightness,\n",
    "                Morph_boxplot_CA_list$Thickness,\n",
    "        ncol = 3, nrow = 3, common.legend = TRUE, legend = \"top\")"
   ]
  },
  {
   "cell_type": "markdown",
   "id": "9cce221f-0c33-4286-b95e-f37756ff42d2",
   "metadata": {},
   "source": [
    "## **5. Export data**"
   ]
  },
  {
   "cell_type": "code",
   "execution_count": 30,
   "id": "72fc468b-5a49-4786-b7ea-7d85911683bc",
   "metadata": {
    "vscode": {
     "languageId": "r"
    }
   },
   "outputs": [],
   "source": [
    "dir.create(\"Figures/Inmuno/Morphology/\", recursive = TRUE)"
   ]
  },
  {
   "cell_type": "code",
   "execution_count": 31,
   "id": "3ed34e7a-0f57-4465-ab6b-57ed7359e8e0",
   "metadata": {
    "vscode": {
     "languageId": "r"
    }
   },
   "outputs": [],
   "source": [
    "ggsave(plot = plot_morphology_metrics, dpi=300,height = 8, width = 11,bg=\"white\",\n",
    "       filename = \"Figures/Inmuno/Morphology/plot_morphology_CPu_metrics.png\")\n",
    "\n",
    "ggsave(plot = plot_morphology_CA_metrics, dpi=300,height = 8, width = 11,bg=\"white\",\n",
    "       filename = \"Figures/Inmuno/Morphology/plot_morphology_CA_metrics.png\")"
   ]
  }
 ],
 "metadata": {
  "kernelspec": {
   "display_name": "R",
   "language": "R",
   "name": "ir"
  },
  "language_info": {
   "codemirror_mode": "r",
   "file_extension": ".r",
   "mimetype": "text/x-r-source",
   "name": "R",
   "pygments_lexer": "r",
   "version": "4.2.0"
  }
 },
 "nbformat": 4,
 "nbformat_minor": 5
}
